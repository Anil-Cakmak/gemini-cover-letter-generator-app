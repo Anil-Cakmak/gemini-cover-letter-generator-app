{
 "cells": [
  {
   "cell_type": "code",
   "execution_count": null,
   "metadata": {
    "id": "KJsefpe-KzwU"
   },
   "outputs": [],
   "source": [
    "!pip install -q -U google-generativeai"
   ]
  },
  {
   "cell_type": "code",
   "execution_count": null,
   "metadata": {
    "id": "QleSp8LiNAl_"
   },
   "outputs": [],
   "source": [
    "import google.generativeai as genai\n",
    "import pandas as pd"
   ]
  },
  {
   "cell_type": "code",
   "execution_count": null,
   "metadata": {
    "id": "ThwzBgT3NKpn"
   },
   "outputs": [],
   "source": [
    "from google.colab import userdata\n",
    "GOOGLE_API_KEY = userdata.get('GOOGLE_API_KEY')\n",
    "genai.configure(api_key=GOOGLE_API_KEY)"
   ]
  },
  {
   "cell_type": "code",
   "execution_count": null,
   "metadata": {
    "id": "TC4QPPXvOH9n"
   },
   "outputs": [],
   "source": [
    "version = \"models/gemini-1.5-flash\"\n",
    "model = genai.GenerativeModel(version, generation_config={\"temperature\": 1.5,\n",
    "                                                          \"top_p\": 0.96,\n",
    "                                                          \"max_output_tokens\": 600})"
   ]
  },
  {
   "cell_type": "code",
   "execution_count": null,
   "metadata": {
    "id": "IQ-nwvQfMBt8"
   },
   "outputs": [],
   "source": [
    "for m in genai.list_models():\n",
    "  if m.name == 'models/gemini-1.5-flash':\n",
    "    print(m)"
   ]
  },
  {
   "cell_type": "code",
   "execution_count": null,
   "metadata": {
    "id": "NHAHGBHjQd0F"
   },
   "outputs": [],
   "source": [
    "from google.colab import files\n",
    "uploaded = files.upload()\n",
    "cv = list(uploaded.keys())[0]\n",
    "cv = genai.upload_file(cv)\n",
    "\n",
    "uploaded = files.upload()\n",
    "job = pd.read_csv(list(uploaded.keys())[0], sep=\",\", quotechar='\"')\n",
    "job_title, company_name, job_description = job[\"job_title\"].values[0], job[\"company_name\"].values[0], job[\"job_description\"].values[0]"
   ]
  },
  {
   "cell_type": "code",
   "execution_count": null,
   "metadata": {
    "id": "eh1YsSMEaK-p"
   },
   "outputs": [],
   "source": [
    "print(cv.name)\n",
    "\n",
    "myfile = genai.get_file(cv.name)\n",
    "print(myfile)"
   ]
  },
  {
   "cell_type": "code",
   "execution_count": null,
   "metadata": {
    "id": "Ko3Oiws83qTT"
   },
   "outputs": [],
   "source": [
    "print(job_title, company_name, job_description, sep=\"\\n\")"
   ]
  },
  {
   "cell_type": "code",
   "execution_count": null,
   "metadata": {
    "id": "_Z9rfZW6Oj8G"
   },
   "outputs": [],
   "source": [
    "prompt = f\"\"\"This is a canditate's CV in pdf format. Extract the text considering layouts, headings and subheadings.\n",
    "Then write a professional cover letter of 250-330 words based on this CV and the following details:\n",
    "- Job Title: {job_title}\n",
    "- Company: {company_name}\n",
    "- Job Description: {job_description}\n",
    "\n",
    "Please ensure the cover letter is tailored to the specific role and company. It should:\n",
    "1. Clearly state the purpose of the letter and introduce the candidate.\n",
    "2. Demonstrate genuine interest in the job and company.\n",
    "3. Complement the CV by offering a little more detail about key experiences, not to simply repeat the CV in paragraph form.\n",
    "4. Focus on transferable skills if no direct experience exists.\n",
    "5. Maintain a professional tone, be concise, and thank the reader for their time and consideration.\n",
    "\n",
    "Structure:\n",
    "- Introduction: State why the candidate is interested in the role and company.\n",
    "- Body: Provide 2-3 key examples from the CV that show how the candidate's skills and experience align with the role.\n",
    "- Closing: Reaffirm the candidate's interest and gratitude for the opportunity.\n",
    "\n",
    "Be sure to personalize the letter and avoid generic language. The body paragraphs must be equal in size. Your response mustn't be more than 340 (three hundred forty) words!\n",
    "\"\"\""
   ]
  },
  {
   "cell_type": "code",
   "execution_count": null,
   "metadata": {
    "id": "IVwwNscMYfHt"
   },
   "outputs": [],
   "source": [
    "response = model.generate_content([cv, prompt])\n",
    "print(response.text)\n"
   ]
  },
  {
   "cell_type": "code",
   "execution_count": null,
   "metadata": {
    "id": "-6UKy-OK7vVC"
   },
   "outputs": [],
   "source": [
    "prompt_token_count = model.count_tokens(prompt)\n",
    "output_token_count = model.count_tokens(response.text)\n",
    "print(f\"Tokens in prompt: {prompt_token_count} \\n Estimated tokens in output {output_token_count}\")"
   ]
  },
  {
   "cell_type": "code",
   "execution_count": null,
   "metadata": {
    "id": "cyLEssP4hrzf"
   },
   "outputs": [],
   "source": [
    "for i in range(10):\n",
    "  response = model.generate_content([cv, prompt])\n",
    "  output_token_count = model.count_tokens(response.text)\n",
    "  print(f\"Estimated words in output {i+1}: {round(output_token_count.total_tokens*0.7)}\")"
   ]
  }
 ],
 "metadata": {
  "colab": {
   "authorship_tag": "ABX9TyN9Ict4hXpoTXdpby4HgO5u",
   "provenance": []
  },
  "kernelspec": {
   "display_name": "Python 3",
   "name": "python3"
  },
  "language_info": {
   "name": "python"
  }
 },
 "nbformat": 4,
 "nbformat_minor": 0
}
